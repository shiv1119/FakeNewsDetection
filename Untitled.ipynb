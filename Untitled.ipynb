{
 "cells": [
  {
   "cell_type": "code",
   "execution_count": 1,
   "id": "90c46184-24aa-49bf-8670-cc5cbed3a9a6",
   "metadata": {},
   "outputs": [
    {
     "name": "stderr",
     "output_type": "stream",
     "text": [
      "Registered S3 methods overwritten by 'ggplot2':\n",
      "  method         from \n",
      "  [.quosures     rlang\n",
      "  c.quosures     rlang\n",
      "  print.quosures rlang\n",
      "Registered S3 method overwritten by 'rvest':\n",
      "  method            from\n",
      "  read_xml.response xml2\n",
      "-- Attaching packages --------------------------------------- tidyverse 1.2.1 --\n",
      "v ggplot2 3.1.1       v purrr   0.3.2  \n",
      "v tibble  2.1.1       v dplyr   0.8.0.1\n",
      "v tidyr   0.8.3       v stringr 1.4.0  \n",
      "v readr   1.3.1       v forcats 0.4.0  \n",
      "-- Conflicts ------------------------------------------ tidyverse_conflicts() --\n",
      "x dplyr::filter() masks stats::filter()\n",
      "x dplyr::lag()    masks stats::lag()\n",
      "Warning message:\n",
      "\"package 'syuzhet' was built under R version 3.6.3\""
     ]
    }
   ],
   "source": [
    "#Loading pakages\n",
    "library(tidyverse)\n",
    "library(tidytext)\n",
    "library(syuzhet)"
   ]
  },
  {
   "cell_type": "code",
   "execution_count": 2,
   "id": "56bf5bfd-7644-41a2-b0ca-06ebe16977a8",
   "metadata": {},
   "outputs": [
    {
     "name": "stderr",
     "output_type": "stream",
     "text": [
      "Parsed with column specification:\n",
      "cols(\n",
      "  .default = col_character(),\n",
      "  ord_in_thread = col_double(),\n",
      "  published = col_datetime(format = \"\"),\n",
      "  crawled = col_datetime(format = \"\"),\n",
      "  domain_rank = col_double(),\n",
      "  spam_score = col_double(),\n",
      "  replies_count = col_double(),\n",
      "  participants_count = col_double(),\n",
      "  likes = col_double(),\n",
      "  comments = col_double(),\n",
      "  shares = col_double()\n",
      ")\n",
      "See spec(...) for full column specifications.\n"
     ]
    }
   ],
   "source": [
    "# Reading Data\n",
    "news <- read_csv(\"fake.csv\")"
   ]
  },
  {
   "cell_type": "code",
   "execution_count": 3,
   "id": "5062775d-e5c7-40dd-9135-9d36507a157e",
   "metadata": {},
   "outputs": [],
   "source": [
    "# Separating Bs and Conspiracy data from dataset because they are also considered as fake\n",
    "news$type<-gsub(\"bs\",\"fake\",news$type)                 \n",
    "news$type<-gsub(\"conspiracy\",\"fake\",news$type) "
   ]
  },
  {
   "cell_type": "code",
   "execution_count": 4,
   "id": "dd258a3a-4b65-4f4a-b6c6-518a6284aaa4",
   "metadata": {},
   "outputs": [],
   "source": [
    "# And the data left are Real \n",
    "news$type<-gsub(\"bias\",\"real\",news$type)              \n",
    "news$type<-gsub(\"satire\",\"real\",news$type)\n",
    "news$type<-gsub(\"hate\",\"real\",news$type)\n",
    "news$type<-gsub(\"junksci\",\"real\",news$type)\n",
    "news$type<-gsub(\"state\",\"real\",news$type)"
   ]
  },
  {
   "cell_type": "code",
   "execution_count": 5,
   "id": "181cf55f-173b-4cec-905d-bd1eae1c46df",
   "metadata": {},
   "outputs": [
    {
     "data": {
      "text/html": [
       "<table>\n",
       "<thead><tr><th scope=col>type</th><th scope=col>count</th></tr></thead>\n",
       "<tbody>\n",
       "\t<tr><td>fake </td><td>11941</td></tr>\n",
       "\t<tr><td>real </td><td> 1058</td></tr>\n",
       "</tbody>\n",
       "</table>\n"
      ],
      "text/latex": [
       "\\begin{tabular}{r|ll}\n",
       " type & count\\\\\n",
       "\\hline\n",
       "\t fake  & 11941\\\\\n",
       "\t real  &  1058\\\\\n",
       "\\end{tabular}\n"
      ],
      "text/markdown": [
       "\n",
       "| type | count |\n",
       "|---|---|\n",
       "| fake  | 11941 |\n",
       "| real  |  1058 |\n",
       "\n"
      ],
      "text/plain": [
       "  type count\n",
       "1 fake 11941\n",
       "2 real  1058"
      ]
     },
     "metadata": {},
     "output_type": "display_data"
    }
   ],
   "source": [
    "# Counting the total number of news that are fake and real as divided data\n",
    "news %>% group_by(type) %>% summarise(count=n())"
   ]
  },
  {
   "cell_type": "code",
   "execution_count": 6,
   "id": "a548877f-8f1c-4317-a518-c01691f9b9c2",
   "metadata": {},
   "outputs": [],
   "source": [
    "# Loading for ploting Fake and Real\n",
    "library(dplyr)"
   ]
  },
  {
   "cell_type": "code",
   "execution_count": 7,
   "id": "49ea32e2-eff5-46ee-92d9-351d598e96b3",
   "metadata": {},
   "outputs": [],
   "source": [
    "labels <- c(\"Fake\", \"Real\")\n",
    "sizes <- data.frame(type = c(\"fake\", \"real\"),count = c(11941, 1058))"
   ]
  },
  {
   "cell_type": "code",
   "execution_count": 8,
   "id": "71148f0b-d7eb-49f8-b2df-ffe9ee285c16",
   "metadata": {
    "scrolled": true
   },
   "outputs": [
    {
     "data": {
      "text/html": [
       "<table>\n",
       "<thead><tr><th scope=col>type</th><th scope=col>count</th></tr></thead>\n",
       "<tbody>\n",
       "\t<tr><td>fake </td><td>11941</td></tr>\n",
       "\t<tr><td>real </td><td> 1058</td></tr>\n",
       "</tbody>\n",
       "</table>\n"
      ],
      "text/latex": [
       "\\begin{tabular}{r|ll}\n",
       " type & count\\\\\n",
       "\\hline\n",
       "\t fake  & 11941\\\\\n",
       "\t real  &  1058\\\\\n",
       "\\end{tabular}\n"
      ],
      "text/markdown": [
       "\n",
       "| type | count |\n",
       "|---|---|\n",
       "| fake  | 11941 |\n",
       "| real  |  1058 |\n",
       "\n"
      ],
      "text/plain": [
       "  type count\n",
       "1 fake 11941\n",
       "2 real  1058"
      ]
     },
     "metadata": {},
     "output_type": "display_data"
    }
   ],
   "source": [
    "sizes"
   ]
  },
  {
   "cell_type": "code",
   "execution_count": 9,
   "id": "74f2c545-37d5-4163-8194-c115c39d2318",
   "metadata": {},
   "outputs": [],
   "source": [
    "# Specifiying colors for each plot: Red for Fake and Green for Real \n",
    "colors <- c(\"red\", \"green\")"
   ]
  },
  {
   "cell_type": "code",
   "execution_count": 11,
   "id": "b004bcdc-e5c1-415e-ace0-6e86485eb97f",
   "metadata": {},
   "outputs": [],
   "source": [
    "# Calculating percentage of both category\n",
    "percentages <- round((sizes$count / sum(sizes$count)) * 100, 1)"
   ]
  },
  {
   "cell_type": "code",
   "execution_count": 12,
   "id": "bbde2a5b-ad36-4da2-a7b5-0fccf26e078f",
   "metadata": {},
   "outputs": [
    {
     "data": {
      "image/png": "[encoded data removed]",
      "text/plain": [
       "Plot with title \"Fake and Real on the basis of Bs and Conspirancy\""
      ]
     },
     "metadata": {},
     "output_type": "display_data"
    }
   ],
   "source": [
    "# Pie chart Visulization\n",
    "pie(sizes$count, labels = paste(sizes$type, \"(\", percentages, \"%)\"), col = colors, main = \"Fake and Real on the basis of Bs and Conspirancy\")"
   ]
  },
  {
   "cell_type": "code",
   "execution_count": 13,
   "id": "32d9d8d7-a5c0-4cb3-bcb8-f4d2252b1ea1",
   "metadata": {},
   "outputs": [
    {
     "data": {
      "image/png": "[encoded data removed]",
      "text/plain": [
       "Plot with title \"Fake and Real on the basis of Bs and Conspirancy\""
      ]
     },
     "metadata": {},
     "output_type": "display_data"
    }
   ],
   "source": [
    "# Bargraph visulization\n",
    "barplot(sizes$count, col = colors, names.arg = paste(sizes$type, \"(\", percentages, \"%)\"), main = \"Fake and Real on the basis of Bs and Conspirancy\", ylab = \"Count\")"
   ]
  },
  {
   "cell_type": "code",
   "execution_count": 14,
   "id": "8027278d-a1fc-4ed0-b094-94b86f0a9ce2",
   "metadata": {},
   "outputs": [],
   "source": [
    "# Now we are going to find total number of question marks and exclamations mark because generally in news paper articles the exclamations mark and question mark is avoided "
   ]
  },
  {
   "cell_type": "code",
   "execution_count": 15,
   "id": "69f5ca75-4f93-4d92-9844-43192c2fe92d",
   "metadata": {},
   "outputs": [],
   "source": [
    "# Creating funstion to find exaclamatory marks and question marks\n",
    "news$exc <- sapply(news$text, function(x) length(unlist(strsplit(as.character(x), \"\\\\!+\"))))\n",
    "news$que <- sapply(news$text, function(x) length(unlist(strsplit(as.character(x), \"\\\\?+\"))))"
   ]
  },
  {
   "cell_type": "code",
   "execution_count": 16,
   "id": "fc4162c4-9995-4f1e-8945-7986822bd5da",
   "metadata": {},
   "outputs": [
    {
     "data": {
      "text/html": [
       "<table>\n",
       "<thead><tr><th scope=col>type</th><th scope=col>exclamations</th></tr></thead>\n",
       "<tbody>\n",
       "\t<tr><td>fake </td><td>20822</td></tr>\n",
       "\t<tr><td>real </td><td> 1719</td></tr>\n",
       "</tbody>\n",
       "</table>\n"
      ],
      "text/latex": [
       "\\begin{tabular}{r|ll}\n",
       " type & exclamations\\\\\n",
       "\\hline\n",
       "\t fake  & 20822\\\\\n",
       "\t real  &  1719\\\\\n",
       "\\end{tabular}\n"
      ],
      "text/markdown": [
       "\n",
       "| type | exclamations |\n",
       "|---|---|\n",
       "| fake  | 20822 |\n",
       "| real  |  1719 |\n",
       "\n"
      ],
      "text/plain": [
       "  type exclamations\n",
       "1 fake 20822       \n",
       "2 real  1719       "
      ]
     },
     "metadata": {},
     "output_type": "display_data"
    }
   ],
   "source": [
    "# Counting total number of exclamation mark in real and fake news\n",
    "news %>% group_by(type) %>% summarise(exclamations=sum(exc))"
   ]
  },
  {
   "cell_type": "code",
   "execution_count": 17,
   "id": "e8689331-3cf2-42bd-b39b-8ddb16f00b8e",
   "metadata": {},
   "outputs": [],
   "source": [
    "sizes <- data.frame(type = c(\"fake\", \"real\"),count = c(20822, 1719))\n",
    "percentages <- round((sizes$count / sum(sizes$count)) * 100, 1)"
   ]
  },
  {
   "cell_type": "code",
   "execution_count": 18,
   "id": "879a7565-7dbf-48ea-a564-5c6967f067e0",
   "metadata": {},
   "outputs": [
    {
     "data": {
      "text/html": [
       "<table>\n",
       "<thead><tr><th scope=col>type</th><th scope=col>count</th></tr></thead>\n",
       "<tbody>\n",
       "\t<tr><td>fake </td><td>20822</td></tr>\n",
       "\t<tr><td>real </td><td> 1719</td></tr>\n",
       "</tbody>\n",
       "</table>\n"
      ],
      "text/latex": [
       "\\begin{tabular}{r|ll}\n",
       " type & count\\\\\n",
       "\\hline\n",
       "\t fake  & 20822\\\\\n",
       "\t real  &  1719\\\\\n",
       "\\end{tabular}\n"
      ],
      "text/markdown": [
       "\n",
       "| type | count |\n",
       "|---|---|\n",
       "| fake  | 20822 |\n",
       "| real  |  1719 |\n",
       "\n"
      ],
      "text/plain": [
       "  type count\n",
       "1 fake 20822\n",
       "2 real  1719"
      ]
     },
     "metadata": {},
     "output_type": "display_data"
    }
   ],
   "source": [
    "sizes"
   ]
  },
  {
   "cell_type": "code",
   "execution_count": 19,
   "id": "07268428-9b0f-45c1-97b3-b6bf209bea9e",
   "metadata": {},
   "outputs": [
    {
     "data": {
      "image/png": "[encoded data removed]",
      "text/plain": [
       "Plot with title \"Total number of Exclamation mark in real and fake news\""
      ]
     },
     "metadata": {},
     "output_type": "display_data"
    }
   ],
   "source": [
    "pie(sizes$count, labels = paste(sizes$type, \"(\", percentages, \"%)\"), col = colors, main = \"Total number of Exclamation mark in real and fake news\")"
   ]
  },
  {
   "cell_type": "code",
   "execution_count": 20,
   "id": "2e07b051-b9aa-4f35-821a-7bfc7bd189ca",
   "metadata": {},
   "outputs": [
    {
     "data": {
      "image/png": "[encoded data removed]",
      "text/plain": [
       "Plot with title \"Total number of Exclamation mark in real and fake news\""
      ]
     },
     "metadata": {},
     "output_type": "display_data"
    }
   ],
   "source": [
    "barplot(sizes$count, col = colors, names.arg = paste(sizes$type, \"(\", percentages, \"%)\"), main = \"Total number of Exclamation mark in real and fake news\", ylab = \"Count\")"
   ]
  },
  {
   "cell_type": "code",
   "execution_count": 22,
   "id": "ba1cd264-c129-4dcf-9f38-625a4682418c",
   "metadata": {},
   "outputs": [
    {
     "data": {
      "text/html": [
       "<table>\n",
       "<thead><tr><th scope=col>type</th><th scope=col>QuestionMarks</th></tr></thead>\n",
       "<tbody>\n",
       "\t<tr><td>fake </td><td>31621</td></tr>\n",
       "\t<tr><td>real </td><td> 2286</td></tr>\n",
       "</tbody>\n",
       "</table>\n"
      ],
      "text/latex": [
       "\\begin{tabular}{r|ll}\n",
       " type & QuestionMarks\\\\\n",
       "\\hline\n",
       "\t fake  & 31621\\\\\n",
       "\t real  &  2286\\\\\n",
       "\\end{tabular}\n"
      ],
      "text/markdown": [
       "\n",
       "| type | QuestionMarks |\n",
       "|---|---|\n",
       "| fake  | 31621 |\n",
       "| real  |  2286 |\n",
       "\n"
      ],
      "text/plain": [
       "  type QuestionMarks\n",
       "1 fake 31621        \n",
       "2 real  2286        "
      ]
     },
     "metadata": {},
     "output_type": "display_data"
    }
   ],
   "source": [
    "# Finding total number of question mark in fake and real news\n",
    "news %>% group_by(type) %>% summarise(QuestionMarks=sum(que))"
   ]
  },
  {
   "cell_type": "code",
   "execution_count": 23,
   "id": "a4452210-4382-4002-970f-cedfb03d3c2b",
   "metadata": {},
   "outputs": [],
   "source": [
    "sizes <- data.frame(type = c(\"fake\", \"real\"),count = c(31621, 2286))\n",
    "percentages <- round((sizes$count / sum(sizes$count)) * 100, 1)"
   ]
  },
  {
   "cell_type": "code",
   "execution_count": 24,
   "id": "0fbd41c6-f915-4c59-a2c5-d0bfd9207c87",
   "metadata": {},
   "outputs": [
    {
     "data": {
      "text/html": [
       "<table>\n",
       "<thead><tr><th scope=col>type</th><th scope=col>count</th></tr></thead>\n",
       "<tbody>\n",
       "\t<tr><td>fake </td><td>31621</td></tr>\n",
       "\t<tr><td>real </td><td> 2286</td></tr>\n",
       "</tbody>\n",
       "</table>\n"
      ],
      "text/latex": [
       "\\begin{tabular}{r|ll}\n",
       " type & count\\\\\n",
       "\\hline\n",
       "\t fake  & 31621\\\\\n",
       "\t real  &  2286\\\\\n",
       "\\end{tabular}\n"
      ],
      "text/markdown": [
       "\n",
       "| type | count |\n",
       "|---|---|\n",
       "| fake  | 31621 |\n",
       "| real  |  2286 |\n",
       "\n"
      ],
      "text/plain": [
       "  type count\n",
       "1 fake 31621\n",
       "2 real  2286"
      ]
     },
     "metadata": {},
     "output_type": "display_data"
    }
   ],
   "source": [
    "sizes"
   ]
  },
  {
   "cell_type": "code",
   "execution_count": 24,
   "id": "737b98ed-0e56-4806-9cda-3a42bc5b4f6f",
   "metadata": {},
   "outputs": [
    {
     "data": {
      "image/png": "[encoded data removed]",
      "text/plain": [
       "Plot with title \"Total number of Question mark in real and fake news\""
      ]
     },
     "metadata": {},
     "output_type": "display_data"
    }
   ],
   "source": [
    "pie(sizes$count, labels = paste(sizes$type, \"(\", percentages, \"%)\"), col = colors, main = \"Total number of Question mark in real and fake news\")"
   ]
  },
  {
   "cell_type": "code",
   "execution_count": 25,
   "id": "326004ed-6fc9-4a03-862a-366457f24192",
   "metadata": {},
   "outputs": [
    {
     "data": {
      "image/png": "[encoded data removed]",
      "text/plain": [
       "Plot with title \"Total number of Exclamation mark in real and fake news\""
      ]
     },
     "metadata": {},
     "output_type": "display_data"
    }
   ],
   "source": [
    "barplot(sizes$count, col = colors, names.arg = paste(sizes$type, \"(\", percentages, \"%)\"), main = \"Total number of Exclamation mark in real and fake news\", ylab = \"Count\")"
   ]
  },
  {
   "cell_type": "code",
   "execution_count": 26,
   "id": "289a50e8-e127-40bb-93e3-6a1b8accb2d0",
   "metadata": {},
   "outputs": [
    {
     "data": {
      "image/png": "[encoded data removed]",
      "text/plain": [
       "plot without title"
      ]
     },
     "metadata": {},
     "output_type": "display_data"
    }
   ],
   "source": [
    "# Plotting box plot to get a real visulization\n",
    "boxplot(que ~ type,news,ylim=c(0,20),col=c(\"red\",\"green\"))"
   ]
  },
  {
   "cell_type": "code",
   "execution_count": 27,
   "id": "a585019e-4e86-40de-a767-04fcce4147f6",
   "metadata": {},
   "outputs": [],
   "source": [
    "# Function for getting words from out datasets\n",
    "\n",
    "terms<- function(fake, text_column, group_column){\n",
    "  group_column <- enquo(group_column)\n",
    "  text_column <- enquo(text_column)\n",
    "  words <- news %>%\n",
    "    unnest_tokens(word, !!text_column) %>%\n",
    "    count(!!group_column, word) %>%\n",
    "    ungroup()\n",
    "  \n",
    "  return (words)\n",
    "}"
   ]
  },
  {
   "cell_type": "code",
   "execution_count": 28,
   "id": "d4cc0203-be80-4212-8a36-4a4700bcd87e",
   "metadata": {},
   "outputs": [],
   "source": [
    "df<-terms(news,text,type)"
   ]
  },
  {
   "cell_type": "code",
   "execution_count": 29,
   "id": "9087c2d3-8058-4a32-9813-c3f41a0870be",
   "metadata": {},
   "outputs": [
    {
     "data": {
      "text/html": [
       "<table>\n",
       "<thead><tr><th scope=col>type</th><th scope=col>word</th><th scope=col>n</th></tr></thead>\n",
       "<tbody>\n",
       "\t<tr><td>fake                                              </td><td>NA                                                </td><td>105                                               </td></tr>\n",
       "\t<tr><td>fake                                              </td><td>__                                                </td><td> 15                                               </td></tr>\n",
       "\t<tr><td>fake                                              </td><td>___                                               </td><td> 11                                               </td></tr>\n",
       "\t<tr><td>fake                                              </td><td>____                                              </td><td>  4                                               </td></tr>\n",
       "\t<tr><td>fake                                              </td><td>_000_17b2908ff9fa45188d243fd49aaeeb2dhrcofficecom_</td><td>  4                                               </td></tr>\n",
       "\t<tr><td>fake                                              </td><td>_â                                                </td><td>  1                                               </td></tr>\n",
       "\t<tr><td>fake                                              </td><td>_aimeeconnolly                                    </td><td>  1                                               </td></tr>\n",
       "\t<tr><td>fake                                              </td><td>_aleph_                                           </td><td>  3                                               </td></tr>\n",
       "\t<tr><td>fake                                              </td><td>_blank                                            </td><td> 19                                               </td></tr>\n",
       "\t<tr><td>fake                                              </td><td>_cornbread_                                       </td><td>  1                                               </td></tr>\n",
       "\t<tr><td>fake                                              </td><td>_davidthomson                                     </td><td>  1                                               </td></tr>\n",
       "\t<tr><td>fake                                              </td><td>_en                                               </td><td>  1                                               </td></tr>\n",
       "\t<tr><td>fake                                              </td><td>_end_                                             </td><td>  3                                               </td></tr>\n",
       "\t<tr><td>fake                                              </td><td>_future                                           </td><td>  1                                               </td></tr>\n",
       "\t<tr><td>fake                                              </td><td>_grendan                                          </td><td>  1                                               </td></tr>\n",
       "\t<tr><td>fake                                              </td><td>_innerhostility                                   </td><td>  1                                               </td></tr>\n",
       "\t<tr><td>fake                                              </td><td>_ix526ayfgy                                       </td><td>  1                                               </td></tr>\n",
       "\t<tr><td>fake                                              </td><td>_native_life                                      </td><td>  2                                               </td></tr>\n",
       "\t<tr><td>fake                                              </td><td>_nytimes.com                                      </td><td>  2                                               </td></tr>\n",
       "\t<tr><td>fake                                              </td><td>_obama_says_he_didn                               </td><td>  1                                               </td></tr>\n",
       "\t<tr><td>fake                                              </td><td>_peril                                            </td><td>  1                                               </td></tr>\n",
       "\t<tr><td>fake                                              </td><td>_post86694                                        </td><td>  3                                               </td></tr>\n",
       "\t<tr><td>fake                                              </td><td>_r                                                </td><td>  5                                               </td></tr>\n",
       "\t<tr><td>fake                                              </td><td>_raulrevere                                       </td><td>  1                                               </td></tr>\n",
       "\t<tr><td>fake                                              </td><td>_ravencamille                                     </td><td>  1                                               </td></tr>\n",
       "\t<tr><td>fake                                              </td><td>_request                                          </td><td> 15                                               </td></tr>\n",
       "\t<tr><td>fake                                              </td><td>_rt_op_edge.png                                   </td><td>  1                                               </td></tr>\n",
       "\t<tr><td>fake                                              </td><td>_santa_barbara                                    </td><td>  1                                               </td></tr>\n",
       "\t<tr><td>fake                                              </td><td>_sqoq                                             </td><td>  1                                               </td></tr>\n",
       "\t<tr><td>fake                                              </td><td>_strauss                                          </td><td>  1                                               </td></tr>\n",
       "\t<tr><td>...</td><td>...</td><td>...</td></tr>\n",
       "\t<tr><td>real        </td><td>zinc        </td><td> 4          </td></tr>\n",
       "\t<tr><td>real        </td><td>zineb       </td><td> 4          </td></tr>\n",
       "\t<tr><td>real        </td><td>zinn’s      </td><td> 1          </td></tr>\n",
       "\t<tr><td>real        </td><td>zio         </td><td> 8          </td></tr>\n",
       "\t<tr><td>real        </td><td>zion        </td><td> 1          </td></tr>\n",
       "\t<tr><td>real        </td><td>zionism     </td><td>13          </td></tr>\n",
       "\t<tr><td>real        </td><td>zionist     </td><td>23          </td></tr>\n",
       "\t<tr><td>real        </td><td>zionists    </td><td> 9          </td></tr>\n",
       "\t<tr><td>real        </td><td>zip         </td><td> 3          </td></tr>\n",
       "\t<tr><td>real        </td><td>zipped      </td><td> 1          </td></tr>\n",
       "\t<tr><td>real        </td><td>zoabi       </td><td> 1          </td></tr>\n",
       "\t<tr><td>real        </td><td>zola        </td><td> 6          </td></tr>\n",
       "\t<tr><td>real        </td><td>zombie      </td><td> 3          </td></tr>\n",
       "\t<tr><td>real        </td><td>zone        </td><td>53          </td></tr>\n",
       "\t<tr><td>real        </td><td>zones       </td><td>23          </td></tr>\n",
       "\t<tr><td>real        </td><td>zoo         </td><td>13          </td></tr>\n",
       "\t<tr><td>real        </td><td>zoological  </td><td> 2          </td></tr>\n",
       "\t<tr><td>real        </td><td>zoologists  </td><td> 1          </td></tr>\n",
       "\t<tr><td>real        </td><td>zoom        </td><td> 1          </td></tr>\n",
       "\t<tr><td>real        </td><td>zoomed      </td><td> 2          </td></tr>\n",
       "\t<tr><td>real        </td><td>zooming     </td><td> 1          </td></tr>\n",
       "\t<tr><td>real        </td><td>zoos        </td><td> 2          </td></tr>\n",
       "\t<tr><td>real        </td><td>zora        </td><td> 1          </td></tr>\n",
       "\t<tr><td>real        </td><td>zsl         </td><td> 2          </td></tr>\n",
       "\t<tr><td>real        </td><td>zucker      </td><td> 5          </td></tr>\n",
       "\t<tr><td>real        </td><td>zuckerberg  </td><td>10          </td></tr>\n",
       "\t<tr><td>real        </td><td>zuckerberg’s</td><td> 1          </td></tr>\n",
       "\t<tr><td>real        </td><td>zulus       </td><td> 1          </td></tr>\n",
       "\t<tr><td>real        </td><td>zuma        </td><td> 2          </td></tr>\n",
       "\t<tr><td>real        </td><td>zuma’s      </td><td> 1          </td></tr>\n",
       "</tbody>\n",
       "</table>\n"
      ],
      "text/latex": [
       "\\begin{tabular}{r|lll}\n",
       " type & word & n\\\\\n",
       "\\hline\n",
       "\t fake                                               & NA                                                 & 105                                               \\\\\n",
       "\t fake                                                   & \\_\\_                                                 &  15                                                   \\\\\n",
       "\t fake                                                     & \\_\\_\\_                                                &  11                                                     \\\\\n",
       "\t fake                                                       & \\_\\_\\_\\_                                               &   4                                                       \\\\\n",
       "\t fake                                                     & \\_000\\_17b2908ff9fa45188d243fd49aaeeb2dhrcofficecom\\_ &   4                                                     \\\\\n",
       "\t fake                                                 & \\_â                                                 &   1                                                 \\\\\n",
       "\t fake                                                 & \\_aimeeconnolly                                     &   1                                                 \\\\\n",
       "\t fake                                                   & \\_aleph\\_                                            &   3                                                   \\\\\n",
       "\t fake                                                 & \\_blank                                             &  19                                                 \\\\\n",
       "\t fake                                                   & \\_cornbread\\_                                        &   1                                                   \\\\\n",
       "\t fake                                                 & \\_davidthomson                                      &   1                                                 \\\\\n",
       "\t fake                                                 & \\_en                                                &   1                                                 \\\\\n",
       "\t fake                                                   & \\_end\\_                                              &   3                                                   \\\\\n",
       "\t fake                                                 & \\_future                                            &   1                                                 \\\\\n",
       "\t fake                                                 & \\_grendan                                           &   1                                                 \\\\\n",
       "\t fake                                                 & \\_innerhostility                                    &   1                                                 \\\\\n",
       "\t fake                                                 & \\_ix526ayfgy                                        &   1                                                 \\\\\n",
       "\t fake                                                   & \\_native\\_life                                       &   2                                                   \\\\\n",
       "\t fake                                                 & \\_nytimes.com                                       &   2                                                 \\\\\n",
       "\t fake                                                       & \\_obama\\_says\\_he\\_didn                                &   1                                                       \\\\\n",
       "\t fake                                                 & \\_peril                                             &   1                                                 \\\\\n",
       "\t fake                                                 & \\_post86694                                         &   3                                                 \\\\\n",
       "\t fake                                                 & \\_r                                                 &   5                                                 \\\\\n",
       "\t fake                                                 & \\_raulrevere                                        &   1                                                 \\\\\n",
       "\t fake                                                 & \\_ravencamille                                      &   1                                                 \\\\\n",
       "\t fake                                                 & \\_request                                           &  15                                                 \\\\\n",
       "\t fake                                                     & \\_rt\\_op\\_edge.png                                    &   1                                                     \\\\\n",
       "\t fake                                                   & \\_santa\\_barbara                                     &   1                                                   \\\\\n",
       "\t fake                                                 & \\_sqoq                                              &   1                                                 \\\\\n",
       "\t fake                                                 & \\_strauss                                           &   1                                                 \\\\\n",
       "\t ... & ... & ...\\\\\n",
       "\t real         & zinc         &  4          \\\\\n",
       "\t real         & zineb        &  4          \\\\\n",
       "\t real         & zinn’s       &  1          \\\\\n",
       "\t real         & zio          &  8          \\\\\n",
       "\t real         & zion         &  1          \\\\\n",
       "\t real         & zionism      & 13          \\\\\n",
       "\t real         & zionist      & 23          \\\\\n",
       "\t real         & zionists     &  9          \\\\\n",
       "\t real         & zip          &  3          \\\\\n",
       "\t real         & zipped       &  1          \\\\\n",
       "\t real         & zoabi        &  1          \\\\\n",
       "\t real         & zola         &  6          \\\\\n",
       "\t real         & zombie       &  3          \\\\\n",
       "\t real         & zone         & 53          \\\\\n",
       "\t real         & zones        & 23          \\\\\n",
       "\t real         & zoo          & 13          \\\\\n",
       "\t real         & zoological   &  2          \\\\\n",
       "\t real         & zoologists   &  1          \\\\\n",
       "\t real         & zoom         &  1          \\\\\n",
       "\t real         & zoomed       &  2          \\\\\n",
       "\t real         & zooming      &  1          \\\\\n",
       "\t real         & zoos         &  2          \\\\\n",
       "\t real         & zora         &  1          \\\\\n",
       "\t real         & zsl          &  2          \\\\\n",
       "\t real         & zucker       &  5          \\\\\n",
       "\t real         & zuckerberg   & 10          \\\\\n",
       "\t real         & zuckerberg’s &  1          \\\\\n",
       "\t real         & zulus        &  1          \\\\\n",
       "\t real         & zuma         &  2          \\\\\n",
       "\t real         & zuma’s       &  1          \\\\\n",
       "\\end{tabular}\n"
      ],
      "text/markdown": [
       "\n",
       "| type | word | n |\n",
       "|---|---|---|\n",
       "| fake                                               | NA                                                 | 105                                                |\n",
       "| fake                                               | __                                                 |  15                                                |\n",
       "| fake                                               | ___                                                |  11                                                |\n",
       "| fake                                               | ____                                               |   4                                                |\n",
       "| fake                                               | _000_17b2908ff9fa45188d243fd49aaeeb2dhrcofficecom_ |   4                                                |\n",
       "| fake                                               | _â                                                 |   1                                                |\n",
       "| fake                                               | _aimeeconnolly                                     |   1                                                |\n",
       "| fake                                               | _aleph_                                            |   3                                                |\n",
       "| fake                                               | _blank                                             |  19                                                |\n",
       "| fake                                               | _cornbread_                                        |   1                                                |\n",
       "| fake                                               | _davidthomson                                      |   1                                                |\n",
       "| fake                                               | _en                                                |   1                                                |\n",
       "| fake                                               | _end_                                              |   3                                                |\n",
       "| fake                                               | _future                                            |   1                                                |\n",
       "| fake                                               | _grendan                                           |   1                                                |\n",
       "| fake                                               | _innerhostility                                    |   1                                                |\n",
       "| fake                                               | _ix526ayfgy                                        |   1                                                |\n",
       "| fake                                               | _native_life                                       |   2                                                |\n",
       "| fake                                               | _nytimes.com                                       |   2                                                |\n",
       "| fake                                               | _obama_says_he_didn                                |   1                                                |\n",
       "| fake                                               | _peril                                             |   1                                                |\n",
       "| fake                                               | _post86694                                         |   3                                                |\n",
       "| fake                                               | _r                                                 |   5                                                |\n",
       "| fake                                               | _raulrevere                                        |   1                                                |\n",
       "| fake                                               | _ravencamille                                      |   1                                                |\n",
       "| fake                                               | _request                                           |  15                                                |\n",
       "| fake                                               | _rt_op_edge.png                                    |   1                                                |\n",
       "| fake                                               | _santa_barbara                                     |   1                                                |\n",
       "| fake                                               | _sqoq                                              |   1                                                |\n",
       "| fake                                               | _strauss                                           |   1                                                |\n",
       "| ... | ... | ... |\n",
       "| real         | zinc         |  4           |\n",
       "| real         | zineb        |  4           |\n",
       "| real         | zinn’s       |  1           |\n",
       "| real         | zio          |  8           |\n",
       "| real         | zion         |  1           |\n",
       "| real         | zionism      | 13           |\n",
       "| real         | zionist      | 23           |\n",
       "| real         | zionists     |  9           |\n",
       "| real         | zip          |  3           |\n",
       "| real         | zipped       |  1           |\n",
       "| real         | zoabi        |  1           |\n",
       "| real         | zola         |  6           |\n",
       "| real         | zombie       |  3           |\n",
       "| real         | zone         | 53           |\n",
       "| real         | zones        | 23           |\n",
       "| real         | zoo          | 13           |\n",
       "| real         | zoological   |  2           |\n",
       "| real         | zoologists   |  1           |\n",
       "| real         | zoom         |  1           |\n",
       "| real         | zoomed       |  2           |\n",
       "| real         | zooming      |  1           |\n",
       "| real         | zoos         |  2           |\n",
       "| real         | zora         |  1           |\n",
       "| real         | zsl          |  2           |\n",
       "| real         | zucker       |  5           |\n",
       "| real         | zuckerberg   | 10           |\n",
       "| real         | zuckerberg’s |  1           |\n",
       "| real         | zulus        |  1           |\n",
       "| real         | zuma         |  2           |\n",
       "| real         | zuma’s       |  1           |\n",
       "\n"
      ],
      "text/plain": [
       "       type word                                               n  \n",
       "1      fake NA                                                 105\n",
       "2      fake __                                                  15\n",
       "3      fake ___                                                 11\n",
       "4      fake ____                                                 4\n",
       "5      fake _000_17b2908ff9fa45188d243fd49aaeeb2dhrcofficecom_   4\n",
       "6      fake _â                                                   1\n",
       "7      fake _aimeeconnolly                                       1\n",
       "8      fake _aleph_                                              3\n",
       "9      fake _blank                                              19\n",
       "10     fake _cornbread_                                          1\n",
       "11     fake _davidthomson                                        1\n",
       "12     fake _en                                                  1\n",
       "13     fake _end_                                                3\n",
       "14     fake _future                                              1\n",
       "15     fake _grendan                                             1\n",
       "16     fake _innerhostility                                      1\n",
       "17     fake _ix526ayfgy                                          1\n",
       "18     fake _native_life                                         2\n",
       "19     fake _nytimes.com                                         2\n",
       "20     fake _obama_says_he_didn                                  1\n",
       "21     fake _peril                                               1\n",
       "22     fake _post86694                                           3\n",
       "23     fake _r                                                   5\n",
       "24     fake _raulrevere                                          1\n",
       "25     fake _ravencamille                                        1\n",
       "26     fake _request                                            15\n",
       "27     fake _rt_op_edge.png                                      1\n",
       "28     fake _santa_barbara                                       1\n",
       "29     fake _sqoq                                                1\n",
       "30     fake _strauss                                             1\n",
       "...    ...  ...                                                ...\n",
       "188963 real zinc                                                4 \n",
       "188964 real zineb                                               4 \n",
       "188965 real zinn’s                                              1 \n",
       "188966 real zio                                                 8 \n",
       "188967 real zion                                                1 \n",
       "188968 real zionism                                            13 \n",
       "188969 real zionist                                            23 \n",
       "188970 real zionists                                            9 \n",
       "188971 real zip                                                 3 \n",
       "188972 real zipped                                              1 \n",
       "188973 real zoabi                                               1 \n",
       "188974 real zola                                                6 \n",
       "188975 real zombie                                              3 \n",
       "188976 real zone                                               53 \n",
       "188977 real zones                                              23 \n",
       "188978 real zoo                                                13 \n",
       "188979 real zoological                                          2 \n",
       "188980 real zoologists                                          1 \n",
       "188981 real zoom                                                1 \n",
       "188982 real zoomed                                              2 \n",
       "188983 real zooming                                             1 \n",
       "188984 real zoos                                                2 \n",
       "188985 real zora                                                1 \n",
       "188986 real zsl                                                 2 \n",
       "188987 real zucker                                              5 \n",
       "188988 real zuckerberg                                         10 \n",
       "188989 real zuckerberg’s                                        1 \n",
       "188990 real zulus                                               1 \n",
       "188991 real zuma                                                2 \n",
       "188992 real zuma’s                                              1 "
      ]
     },
     "metadata": {},
     "output_type": "display_data"
    }
   ],
   "source": [
    "df"
   ]
  },
  {
   "cell_type": "code",
   "execution_count": 30,
   "id": "1f8ecb95-3c4b-4984-b4d9-92397c570941",
   "metadata": {},
   "outputs": [
    {
     "data": {
      "image/png": "[encoded data removed]",
      "text/plain": [
       "plot without title"
      ]
     },
     "metadata": {},
     "output_type": "display_data"
    }
   ],
   "source": [
    "# Creating box plot for better visulization of total number of words in real and fake\n",
    "boxplot(n ~ type,df,log=\"y\",xlab=\"type\",ylab=\"number of words\",col=c(\"red\",\"green\"))"
   ]
  },
  {
   "cell_type": "code",
   "execution_count": 31,
   "id": "810e71b6-d65b-4fec-b5d5-ba2de673aac4",
   "metadata": {},
   "outputs": [
    {
     "data": {
      "text/html": [
       "<table>\n",
       "<thead><tr><th scope=col>anger</th><th scope=col>anticipation</th><th scope=col>disgust</th><th scope=col>fear</th><th scope=col>joy</th><th scope=col>sadness</th><th scope=col>surprise</th><th scope=col>trust</th><th scope=col>negative</th><th scope=col>positive</th></tr></thead>\n",
       "<tbody>\n",
       "\t<tr><td> 2</td><td> 2</td><td> 1</td><td> 2</td><td> 2</td><td> 0</td><td>1 </td><td> 4</td><td> 3</td><td> 3</td></tr>\n",
       "\t<tr><td> 5</td><td> 5</td><td> 4</td><td> 7</td><td> 3</td><td> 3</td><td>1 </td><td>11</td><td>14</td><td>10</td></tr>\n",
       "\t<tr><td> 1</td><td> 5</td><td> 1</td><td> 1</td><td> 2</td><td> 0</td><td>1 </td><td> 8</td><td> 2</td><td>10</td></tr>\n",
       "\t<tr><td> 2</td><td> 0</td><td> 2</td><td> 2</td><td> 2</td><td> 3</td><td>2 </td><td> 4</td><td> 2</td><td> 5</td></tr>\n",
       "\t<tr><td> 2</td><td> 5</td><td> 4</td><td> 5</td><td> 1</td><td> 5</td><td>2 </td><td> 9</td><td> 9</td><td>15</td></tr>\n",
       "\t<tr><td> 2</td><td> 4</td><td> 5</td><td> 3</td><td> 0</td><td> 5</td><td>1 </td><td> 7</td><td>11</td><td> 7</td></tr>\n",
       "\t<tr><td>12</td><td>17</td><td>11</td><td>18</td><td>11</td><td> 9</td><td>8 </td><td>33</td><td>25</td><td>41</td></tr>\n",
       "\t<tr><td>12</td><td>19</td><td> 6</td><td>17</td><td>12</td><td>11</td><td>7 </td><td>37</td><td>27</td><td>46</td></tr>\n",
       "\t<tr><td> 2</td><td> 5</td><td> 2</td><td> 4</td><td> 0</td><td> 4</td><td>0 </td><td> 5</td><td> 7</td><td> 5</td></tr>\n",
       "\t<tr><td> 2</td><td> 3</td><td> 2</td><td> 3</td><td> 3</td><td> 2</td><td>2 </td><td> 4</td><td> 4</td><td> 4</td></tr>\n",
       "\t<tr><td> 0</td><td> 0</td><td> 0</td><td> 0</td><td> 0</td><td> 0</td><td>0 </td><td> 0</td><td> 0</td><td> 0</td></tr>\n",
       "\t<tr><td> 7</td><td>11</td><td> 3</td><td>10</td><td> 4</td><td>10</td><td>7 </td><td>12</td><td>15</td><td>22</td></tr>\n",
       "\t<tr><td> 5</td><td>17</td><td> 6</td><td> 7</td><td> 7</td><td> 4</td><td>7 </td><td>27</td><td>13</td><td>44</td></tr>\n",
       "\t<tr><td> 8</td><td> 5</td><td> 3</td><td> 4</td><td> 3</td><td> 7</td><td>5 </td><td>12</td><td>14</td><td> 9</td></tr>\n",
       "\t<tr><td> 0</td><td> 2</td><td> 0</td><td> 0</td><td> 1</td><td> 0</td><td>1 </td><td> 3</td><td> 0</td><td> 1</td></tr>\n",
       "\t<tr><td> 1</td><td> 0</td><td> 0</td><td> 1</td><td> 1</td><td> 1</td><td>1 </td><td> 2</td><td> 1</td><td> 3</td></tr>\n",
       "\t<tr><td> 0</td><td> 2</td><td> 0</td><td> 0</td><td> 1</td><td> 0</td><td>1 </td><td> 3</td><td> 0</td><td> 1</td></tr>\n",
       "\t<tr><td>12</td><td> 9</td><td> 9</td><td>13</td><td> 6</td><td>10</td><td>2 </td><td>11</td><td>22</td><td>19</td></tr>\n",
       "\t<tr><td> 0</td><td> 3</td><td> 2</td><td> 3</td><td> 3</td><td> 6</td><td>1 </td><td> 2</td><td> 8</td><td> 6</td></tr>\n",
       "\t<tr><td> 9</td><td>10</td><td>10</td><td>12</td><td> 6</td><td>15</td><td>9 </td><td>12</td><td>23</td><td>21</td></tr>\n",
       "\t<tr><td> 2</td><td> 4</td><td> 1</td><td> 4</td><td> 3</td><td> 2</td><td>4 </td><td> 7</td><td> 5</td><td> 9</td></tr>\n",
       "\t<tr><td> 1</td><td> 0</td><td> 0</td><td> 1</td><td> 0</td><td> 1</td><td>0 </td><td> 0</td><td> 2</td><td> 0</td></tr>\n",
       "\t<tr><td> 2</td><td> 3</td><td> 0</td><td> 2</td><td> 2</td><td> 3</td><td>1 </td><td> 3</td><td> 3</td><td> 3</td></tr>\n",
       "\t<tr><td> 8</td><td>14</td><td> 7</td><td>12</td><td> 4</td><td> 8</td><td>5 </td><td>18</td><td>14</td><td>22</td></tr>\n",
       "\t<tr><td> 1</td><td> 1</td><td> 0</td><td> 0</td><td> 1</td><td> 0</td><td>0 </td><td> 2</td><td> 1</td><td> 4</td></tr>\n",
       "\t<tr><td> 0</td><td> 0</td><td> 0</td><td> 0</td><td> 0</td><td> 0</td><td>0 </td><td> 1</td><td> 0</td><td> 1</td></tr>\n",
       "\t<tr><td> 5</td><td> 7</td><td> 8</td><td> 5</td><td> 3</td><td> 7</td><td>6 </td><td> 8</td><td>14</td><td>21</td></tr>\n",
       "\t<tr><td> 3</td><td> 7</td><td> 1</td><td> 3</td><td> 4</td><td> 3</td><td>4 </td><td> 9</td><td> 6</td><td>16</td></tr>\n",
       "\t<tr><td> 2</td><td> 4</td><td> 1</td><td> 2</td><td> 4</td><td> 3</td><td>2 </td><td> 4</td><td> 3</td><td> 7</td></tr>\n",
       "\t<tr><td> 0</td><td> 1</td><td> 0</td><td> 2</td><td> 1</td><td> 0</td><td>1 </td><td> 1</td><td> 1</td><td> 2</td></tr>\n",
       "\t<tr><td>...</td><td>...</td><td>...</td><td>...</td><td>...</td><td>...</td><td>...</td><td>...</td><td>...</td><td>...</td></tr>\n",
       "\t<tr><td>0 </td><td>0 </td><td>0 </td><td>1 </td><td>0 </td><td>0 </td><td>0 </td><td> 0</td><td> 0</td><td> 0</td></tr>\n",
       "\t<tr><td>1 </td><td>0 </td><td>1 </td><td>0 </td><td>0 </td><td>0 </td><td>0 </td><td> 0</td><td> 1</td><td> 0</td></tr>\n",
       "\t<tr><td>0 </td><td>0 </td><td>0 </td><td>0 </td><td>0 </td><td>0 </td><td>0 </td><td> 0</td><td> 0</td><td> 0</td></tr>\n",
       "\t<tr><td>0 </td><td>0 </td><td>0 </td><td>0 </td><td>0 </td><td>0 </td><td>0 </td><td> 0</td><td> 0</td><td> 0</td></tr>\n",
       "\t<tr><td>0 </td><td>0 </td><td>0 </td><td>0 </td><td>0 </td><td>0 </td><td>0 </td><td> 0</td><td> 0</td><td> 0</td></tr>\n",
       "\t<tr><td>2 </td><td>2 </td><td>0 </td><td>1 </td><td>0 </td><td>1 </td><td>0 </td><td> 1</td><td> 2</td><td> 1</td></tr>\n",
       "\t<tr><td>1 </td><td>1 </td><td>0 </td><td>0 </td><td>0 </td><td>0 </td><td>0 </td><td> 0</td><td> 1</td><td> 0</td></tr>\n",
       "\t<tr><td>0 </td><td>1 </td><td>0 </td><td>0 </td><td>0 </td><td>0 </td><td>0 </td><td> 0</td><td> 0</td><td> 1</td></tr>\n",
       "\t<tr><td>0 </td><td>0 </td><td>0 </td><td>0 </td><td>0 </td><td>0 </td><td>0 </td><td> 0</td><td> 0</td><td> 0</td></tr>\n",
       "\t<tr><td>0 </td><td>1 </td><td>0 </td><td>1 </td><td>0 </td><td>0 </td><td>0 </td><td> 0</td><td> 1</td><td> 0</td></tr>\n",
       "\t<tr><td>3 </td><td>1 </td><td>1 </td><td>1 </td><td>1 </td><td>0 </td><td>0 </td><td> 1</td><td> 1</td><td> 1</td></tr>\n",
       "\t<tr><td>1 </td><td>0 </td><td>0 </td><td>0 </td><td>0 </td><td>0 </td><td>0 </td><td> 0</td><td> 2</td><td> 0</td></tr>\n",
       "\t<tr><td>2 </td><td>0 </td><td>0 </td><td>2 </td><td>0 </td><td>0 </td><td>0 </td><td> 0</td><td> 2</td><td> 0</td></tr>\n",
       "\t<tr><td>0 </td><td>0 </td><td>0 </td><td>0 </td><td>0 </td><td>0 </td><td>0 </td><td> 0</td><td> 0</td><td> 0</td></tr>\n",
       "\t<tr><td>8 </td><td>5 </td><td>7 </td><td>3 </td><td>4 </td><td>2 </td><td>3 </td><td>10</td><td>12</td><td>18</td></tr>\n",
       "\t<tr><td>0 </td><td>0 </td><td>2 </td><td>3 </td><td>0 </td><td>1 </td><td>0 </td><td> 0</td><td> 5</td><td> 0</td></tr>\n",
       "\t<tr><td>0 </td><td>0 </td><td>0 </td><td>0 </td><td>0 </td><td>0 </td><td>0 </td><td> 0</td><td> 0</td><td> 1</td></tr>\n",
       "\t<tr><td>0 </td><td>1 </td><td>0 </td><td>0 </td><td>1 </td><td>0 </td><td>0 </td><td> 0</td><td> 0</td><td> 1</td></tr>\n",
       "\t<tr><td>0 </td><td>1 </td><td>0 </td><td>0 </td><td>1 </td><td>0 </td><td>1 </td><td> 1</td><td> 0</td><td> 1</td></tr>\n",
       "\t<tr><td>0 </td><td>2 </td><td>0 </td><td>2 </td><td>2 </td><td>2 </td><td>3 </td><td> 4</td><td> 6</td><td> 6</td></tr>\n",
       "\t<tr><td>0 </td><td>0 </td><td>0 </td><td>0 </td><td>0 </td><td>0 </td><td>0 </td><td> 0</td><td> 0</td><td> 0</td></tr>\n",
       "\t<tr><td>3 </td><td>2 </td><td>3 </td><td>3 </td><td>2 </td><td>1 </td><td>0 </td><td> 4</td><td> 5</td><td> 9</td></tr>\n",
       "\t<tr><td>0 </td><td>1 </td><td>0 </td><td>0 </td><td>1 </td><td>0 </td><td>0 </td><td> 1</td><td> 0</td><td> 2</td></tr>\n",
       "\t<tr><td>0 </td><td>0 </td><td>0 </td><td>0 </td><td>0 </td><td>1 </td><td>0 </td><td> 0</td><td> 1</td><td> 0</td></tr>\n",
       "\t<tr><td>0 </td><td>0 </td><td>0 </td><td>1 </td><td>0 </td><td>0 </td><td>0 </td><td> 0</td><td> 1</td><td> 1</td></tr>\n",
       "\t<tr><td>0 </td><td>1 </td><td>0 </td><td>0 </td><td>0 </td><td>0 </td><td>0 </td><td> 2</td><td> 0</td><td> 2</td></tr>\n",
       "\t<tr><td>1 </td><td>1 </td><td>0 </td><td>1 </td><td>0 </td><td>0 </td><td>0 </td><td> 0</td><td> 1</td><td> 1</td></tr>\n",
       "\t<tr><td>0 </td><td>0 </td><td>0 </td><td>0 </td><td>0 </td><td>0 </td><td>0 </td><td> 0</td><td> 0</td><td> 0</td></tr>\n",
       "\t<tr><td>0 </td><td>0 </td><td>0 </td><td>0 </td><td>1 </td><td>0 </td><td>1 </td><td> 1</td><td> 0</td><td> 1</td></tr>\n",
       "\t<tr><td>0 </td><td>0 </td><td>0 </td><td>0 </td><td>0 </td><td>0 </td><td>0 </td><td> 0</td><td> 0</td><td> 0</td></tr>\n",
       "</tbody>\n",
       "</table>\n"
      ],
      "text/latex": [
       "\\begin{tabular}{r|llllllllll}\n",
       " anger & anticipation & disgust & fear & joy & sadness & surprise & trust & negative & positive\\\\\n",
       "\\hline\n",
       "\t  2 &  2 &  1 &  2 &  2 &  0 & 1  &  4 &  3 &  3\\\\\n",
       "\t  5 &  5 &  4 &  7 &  3 &  3 & 1  & 11 & 14 & 10\\\\\n",
       "\t  1 &  5 &  1 &  1 &  2 &  0 & 1  &  8 &  2 & 10\\\\\n",
       "\t  2 &  0 &  2 &  2 &  2 &  3 & 2  &  4 &  2 &  5\\\\\n",
       "\t  2 &  5 &  4 &  5 &  1 &  5 & 2  &  9 &  9 & 15\\\\\n",
       "\t  2 &  4 &  5 &  3 &  0 &  5 & 1  &  7 & 11 &  7\\\\\n",
       "\t 12 & 17 & 11 & 18 & 11 &  9 & 8  & 33 & 25 & 41\\\\\n",
       "\t 12 & 19 &  6 & 17 & 12 & 11 & 7  & 37 & 27 & 46\\\\\n",
       "\t  2 &  5 &  2 &  4 &  0 &  4 & 0  &  5 &  7 &  5\\\\\n",
       "\t  2 &  3 &  2 &  3 &  3 &  2 & 2  &  4 &  4 &  4\\\\\n",
       "\t  0 &  0 &  0 &  0 &  0 &  0 & 0  &  0 &  0 &  0\\\\\n",
       "\t  7 & 11 &  3 & 10 &  4 & 10 & 7  & 12 & 15 & 22\\\\\n",
       "\t  5 & 17 &  6 &  7 &  7 &  4 & 7  & 27 & 13 & 44\\\\\n",
       "\t  8 &  5 &  3 &  4 &  3 &  7 & 5  & 12 & 14 &  9\\\\\n",
       "\t  0 &  2 &  0 &  0 &  1 &  0 & 1  &  3 &  0 &  1\\\\\n",
       "\t  1 &  0 &  0 &  1 &  1 &  1 & 1  &  2 &  1 &  3\\\\\n",
       "\t  0 &  2 &  0 &  0 &  1 &  0 & 1  &  3 &  0 &  1\\\\\n",
       "\t 12 &  9 &  9 & 13 &  6 & 10 & 2  & 11 & 22 & 19\\\\\n",
       "\t  0 &  3 &  2 &  3 &  3 &  6 & 1  &  2 &  8 &  6\\\\\n",
       "\t  9 & 10 & 10 & 12 &  6 & 15 & 9  & 12 & 23 & 21\\\\\n",
       "\t  2 &  4 &  1 &  4 &  3 &  2 & 4  &  7 &  5 &  9\\\\\n",
       "\t  1 &  0 &  0 &  1 &  0 &  1 & 0  &  0 &  2 &  0\\\\\n",
       "\t  2 &  3 &  0 &  2 &  2 &  3 & 1  &  3 &  3 &  3\\\\\n",
       "\t  8 & 14 &  7 & 12 &  4 &  8 & 5  & 18 & 14 & 22\\\\\n",
       "\t  1 &  1 &  0 &  0 &  1 &  0 & 0  &  2 &  1 &  4\\\\\n",
       "\t  0 &  0 &  0 &  0 &  0 &  0 & 0  &  1 &  0 &  1\\\\\n",
       "\t  5 &  7 &  8 &  5 &  3 &  7 & 6  &  8 & 14 & 21\\\\\n",
       "\t  3 &  7 &  1 &  3 &  4 &  3 & 4  &  9 &  6 & 16\\\\\n",
       "\t  2 &  4 &  1 &  2 &  4 &  3 & 2  &  4 &  3 &  7\\\\\n",
       "\t  0 &  1 &  0 &  2 &  1 &  0 & 1  &  1 &  1 &  2\\\\\n",
       "\t ... & ... & ... & ... & ... & ... & ... & ... & ... & ...\\\\\n",
       "\t 0  & 0  & 0  & 1  & 0  & 0  & 0  &  0 &  0 &  0\\\\\n",
       "\t 1  & 0  & 1  & 0  & 0  & 0  & 0  &  0 &  1 &  0\\\\\n",
       "\t 0  & 0  & 0  & 0  & 0  & 0  & 0  &  0 &  0 &  0\\\\\n",
       "\t 0  & 0  & 0  & 0  & 0  & 0  & 0  &  0 &  0 &  0\\\\\n",
       "\t 0  & 0  & 0  & 0  & 0  & 0  & 0  &  0 &  0 &  0\\\\\n",
       "\t 2  & 2  & 0  & 1  & 0  & 1  & 0  &  1 &  2 &  1\\\\\n",
       "\t 1  & 1  & 0  & 0  & 0  & 0  & 0  &  0 &  1 &  0\\\\\n",
       "\t 0  & 1  & 0  & 0  & 0  & 0  & 0  &  0 &  0 &  1\\\\\n",
       "\t 0  & 0  & 0  & 0  & 0  & 0  & 0  &  0 &  0 &  0\\\\\n",
       "\t 0  & 1  & 0  & 1  & 0  & 0  & 0  &  0 &  1 &  0\\\\\n",
       "\t 3  & 1  & 1  & 1  & 1  & 0  & 0  &  1 &  1 &  1\\\\\n",
       "\t 1  & 0  & 0  & 0  & 0  & 0  & 0  &  0 &  2 &  0\\\\\n",
       "\t 2  & 0  & 0  & 2  & 0  & 0  & 0  &  0 &  2 &  0\\\\\n",
       "\t 0  & 0  & 0  & 0  & 0  & 0  & 0  &  0 &  0 &  0\\\\\n",
       "\t 8  & 5  & 7  & 3  & 4  & 2  & 3  & 10 & 12 & 18\\\\\n",
       "\t 0  & 0  & 2  & 3  & 0  & 1  & 0  &  0 &  5 &  0\\\\\n",
       "\t 0  & 0  & 0  & 0  & 0  & 0  & 0  &  0 &  0 &  1\\\\\n",
       "\t 0  & 1  & 0  & 0  & 1  & 0  & 0  &  0 &  0 &  1\\\\\n",
       "\t 0  & 1  & 0  & 0  & 1  & 0  & 1  &  1 &  0 &  1\\\\\n",
       "\t 0  & 2  & 0  & 2  & 2  & 2  & 3  &  4 &  6 &  6\\\\\n",
       "\t 0  & 0  & 0  & 0  & 0  & 0  & 0  &  0 &  0 &  0\\\\\n",
       "\t 3  & 2  & 3  & 3  & 2  & 1  & 0  &  4 &  5 &  9\\\\\n",
       "\t 0  & 1  & 0  & 0  & 1  & 0  & 0  &  1 &  0 &  2\\\\\n",
       "\t 0  & 0  & 0  & 0  & 0  & 1  & 0  &  0 &  1 &  0\\\\\n",
       "\t 0  & 0  & 0  & 1  & 0  & 0  & 0  &  0 &  1 &  1\\\\\n",
       "\t 0  & 1  & 0  & 0  & 0  & 0  & 0  &  2 &  0 &  2\\\\\n",
       "\t 1  & 1  & 0  & 1  & 0  & 0  & 0  &  0 &  1 &  1\\\\\n",
       "\t 0  & 0  & 0  & 0  & 0  & 0  & 0  &  0 &  0 &  0\\\\\n",
       "\t 0  & 0  & 0  & 0  & 1  & 0  & 1  &  1 &  0 &  1\\\\\n",
       "\t 0  & 0  & 0  & 0  & 0  & 0  & 0  &  0 &  0 &  0\\\\\n",
       "\\end{tabular}\n"
      ],
      "text/markdown": [
       "\n",
       "| anger | anticipation | disgust | fear | joy | sadness | surprise | trust | negative | positive |\n",
       "|---|---|---|---|---|---|---|---|---|---|\n",
       "|  2 |  2 |  1 |  2 |  2 |  0 | 1  |  4 |  3 |  3 |\n",
       "|  5 |  5 |  4 |  7 |  3 |  3 | 1  | 11 | 14 | 10 |\n",
       "|  1 |  5 |  1 |  1 |  2 |  0 | 1  |  8 |  2 | 10 |\n",
       "|  2 |  0 |  2 |  2 |  2 |  3 | 2  |  4 |  2 |  5 |\n",
       "|  2 |  5 |  4 |  5 |  1 |  5 | 2  |  9 |  9 | 15 |\n",
       "|  2 |  4 |  5 |  3 |  0 |  5 | 1  |  7 | 11 |  7 |\n",
       "| 12 | 17 | 11 | 18 | 11 |  9 | 8  | 33 | 25 | 41 |\n",
       "| 12 | 19 |  6 | 17 | 12 | 11 | 7  | 37 | 27 | 46 |\n",
       "|  2 |  5 |  2 |  4 |  0 |  4 | 0  |  5 |  7 |  5 |\n",
       "|  2 |  3 |  2 |  3 |  3 |  2 | 2  |  4 |  4 |  4 |\n",
       "|  0 |  0 |  0 |  0 |  0 |  0 | 0  |  0 |  0 |  0 |\n",
       "|  7 | 11 |  3 | 10 |  4 | 10 | 7  | 12 | 15 | 22 |\n",
       "|  5 | 17 |  6 |  7 |  7 |  4 | 7  | 27 | 13 | 44 |\n",
       "|  8 |  5 |  3 |  4 |  3 |  7 | 5  | 12 | 14 |  9 |\n",
       "|  0 |  2 |  0 |  0 |  1 |  0 | 1  |  3 |  0 |  1 |\n",
       "|  1 |  0 |  0 |  1 |  1 |  1 | 1  |  2 |  1 |  3 |\n",
       "|  0 |  2 |  0 |  0 |  1 |  0 | 1  |  3 |  0 |  1 |\n",
       "| 12 |  9 |  9 | 13 |  6 | 10 | 2  | 11 | 22 | 19 |\n",
       "|  0 |  3 |  2 |  3 |  3 |  6 | 1  |  2 |  8 |  6 |\n",
       "|  9 | 10 | 10 | 12 |  6 | 15 | 9  | 12 | 23 | 21 |\n",
       "|  2 |  4 |  1 |  4 |  3 |  2 | 4  |  7 |  5 |  9 |\n",
       "|  1 |  0 |  0 |  1 |  0 |  1 | 0  |  0 |  2 |  0 |\n",
       "|  2 |  3 |  0 |  2 |  2 |  3 | 1  |  3 |  3 |  3 |\n",
       "|  8 | 14 |  7 | 12 |  4 |  8 | 5  | 18 | 14 | 22 |\n",
       "|  1 |  1 |  0 |  0 |  1 |  0 | 0  |  2 |  1 |  4 |\n",
       "|  0 |  0 |  0 |  0 |  0 |  0 | 0  |  1 |  0 |  1 |\n",
       "|  5 |  7 |  8 |  5 |  3 |  7 | 6  |  8 | 14 | 21 |\n",
       "|  3 |  7 |  1 |  3 |  4 |  3 | 4  |  9 |  6 | 16 |\n",
       "|  2 |  4 |  1 |  2 |  4 |  3 | 2  |  4 |  3 |  7 |\n",
       "|  0 |  1 |  0 |  2 |  1 |  0 | 1  |  1 |  1 |  2 |\n",
       "| ... | ... | ... | ... | ... | ... | ... | ... | ... | ... |\n",
       "| 0  | 0  | 0  | 1  | 0  | 0  | 0  |  0 |  0 |  0 |\n",
       "| 1  | 0  | 1  | 0  | 0  | 0  | 0  |  0 |  1 |  0 |\n",
       "| 0  | 0  | 0  | 0  | 0  | 0  | 0  |  0 |  0 |  0 |\n",
       "| 0  | 0  | 0  | 0  | 0  | 0  | 0  |  0 |  0 |  0 |\n",
       "| 0  | 0  | 0  | 0  | 0  | 0  | 0  |  0 |  0 |  0 |\n",
       "| 2  | 2  | 0  | 1  | 0  | 1  | 0  |  1 |  2 |  1 |\n",
       "| 1  | 1  | 0  | 0  | 0  | 0  | 0  |  0 |  1 |  0 |\n",
       "| 0  | 1  | 0  | 0  | 0  | 0  | 0  |  0 |  0 |  1 |\n",
       "| 0  | 0  | 0  | 0  | 0  | 0  | 0  |  0 |  0 |  0 |\n",
       "| 0  | 1  | 0  | 1  | 0  | 0  | 0  |  0 |  1 |  0 |\n",
       "| 3  | 1  | 1  | 1  | 1  | 0  | 0  |  1 |  1 |  1 |\n",
       "| 1  | 0  | 0  | 0  | 0  | 0  | 0  |  0 |  2 |  0 |\n",
       "| 2  | 0  | 0  | 2  | 0  | 0  | 0  |  0 |  2 |  0 |\n",
       "| 0  | 0  | 0  | 0  | 0  | 0  | 0  |  0 |  0 |  0 |\n",
       "| 8  | 5  | 7  | 3  | 4  | 2  | 3  | 10 | 12 | 18 |\n",
       "| 0  | 0  | 2  | 3  | 0  | 1  | 0  |  0 |  5 |  0 |\n",
       "| 0  | 0  | 0  | 0  | 0  | 0  | 0  |  0 |  0 |  1 |\n",
       "| 0  | 1  | 0  | 0  | 1  | 0  | 0  |  0 |  0 |  1 |\n",
       "| 0  | 1  | 0  | 0  | 1  | 0  | 1  |  1 |  0 |  1 |\n",
       "| 0  | 2  | 0  | 2  | 2  | 2  | 3  |  4 |  6 |  6 |\n",
       "| 0  | 0  | 0  | 0  | 0  | 0  | 0  |  0 |  0 |  0 |\n",
       "| 3  | 2  | 3  | 3  | 2  | 1  | 0  |  4 |  5 |  9 |\n",
       "| 0  | 1  | 0  | 0  | 1  | 0  | 0  |  1 |  0 |  2 |\n",
       "| 0  | 0  | 0  | 0  | 0  | 1  | 0  |  0 |  1 |  0 |\n",
       "| 0  | 0  | 0  | 1  | 0  | 0  | 0  |  0 |  1 |  1 |\n",
       "| 0  | 1  | 0  | 0  | 0  | 0  | 0  |  2 |  0 |  2 |\n",
       "| 1  | 1  | 0  | 1  | 0  | 0  | 0  |  0 |  1 |  1 |\n",
       "| 0  | 0  | 0  | 0  | 0  | 0  | 0  |  0 |  0 |  0 |\n",
       "| 0  | 0  | 0  | 0  | 1  | 0  | 1  |  1 |  0 |  1 |\n",
       "| 0  | 0  | 0  | 0  | 0  | 0  | 0  |  0 |  0 |  0 |\n",
       "\n"
      ],
      "text/plain": [
       "      anger anticipation disgust fear joy sadness surprise trust negative\n",
       "1      2     2            1       2    2   0      1         4     3      \n",
       "2      5     5            4       7    3   3      1        11    14      \n",
       "3      1     5            1       1    2   0      1         8     2      \n",
       "4      2     0            2       2    2   3      2         4     2      \n",
       "5      2     5            4       5    1   5      2         9     9      \n",
       "6      2     4            5       3    0   5      1         7    11      \n",
       "7     12    17           11      18   11   9      8        33    25      \n",
       "8     12    19            6      17   12  11      7        37    27      \n",
       "9      2     5            2       4    0   4      0         5     7      \n",
       "10     2     3            2       3    3   2      2         4     4      \n",
       "11     0     0            0       0    0   0      0         0     0      \n",
       "12     7    11            3      10    4  10      7        12    15      \n",
       "13     5    17            6       7    7   4      7        27    13      \n",
       "14     8     5            3       4    3   7      5        12    14      \n",
       "15     0     2            0       0    1   0      1         3     0      \n",
       "16     1     0            0       1    1   1      1         2     1      \n",
       "17     0     2            0       0    1   0      1         3     0      \n",
       "18    12     9            9      13    6  10      2        11    22      \n",
       "19     0     3            2       3    3   6      1         2     8      \n",
       "20     9    10           10      12    6  15      9        12    23      \n",
       "21     2     4            1       4    3   2      4         7     5      \n",
       "22     1     0            0       1    0   1      0         0     2      \n",
       "23     2     3            0       2    2   3      1         3     3      \n",
       "24     8    14            7      12    4   8      5        18    14      \n",
       "25     1     1            0       0    1   0      0         2     1      \n",
       "26     0     0            0       0    0   0      0         1     0      \n",
       "27     5     7            8       5    3   7      6         8    14      \n",
       "28     3     7            1       3    4   3      4         9     6      \n",
       "29     2     4            1       2    4   3      2         4     3      \n",
       "30     0     1            0       2    1   0      1         1     1      \n",
       "...   ...   ...          ...     ...  ... ...     ...      ...   ...     \n",
       "12970 0     0            0       1    0   0       0         0     0      \n",
       "12971 1     0            1       0    0   0       0         0     1      \n",
       "12972 0     0            0       0    0   0       0         0     0      \n",
       "12973 0     0            0       0    0   0       0         0     0      \n",
       "12974 0     0            0       0    0   0       0         0     0      \n",
       "12975 2     2            0       1    0   1       0         1     2      \n",
       "12976 1     1            0       0    0   0       0         0     1      \n",
       "12977 0     1            0       0    0   0       0         0     0      \n",
       "12978 0     0            0       0    0   0       0         0     0      \n",
       "12979 0     1            0       1    0   0       0         0     1      \n",
       "12980 3     1            1       1    1   0       0         1     1      \n",
       "12981 1     0            0       0    0   0       0         0     2      \n",
       "12982 2     0            0       2    0   0       0         0     2      \n",
       "12983 0     0            0       0    0   0       0         0     0      \n",
       "12984 8     5            7       3    4   2       3        10    12      \n",
       "12985 0     0            2       3    0   1       0         0     5      \n",
       "12986 0     0            0       0    0   0       0         0     0      \n",
       "12987 0     1            0       0    1   0       0         0     0      \n",
       "12988 0     1            0       0    1   0       1         1     0      \n",
       "12989 0     2            0       2    2   2       3         4     6      \n",
       "12990 0     0            0       0    0   0       0         0     0      \n",
       "12991 3     2            3       3    2   1       0         4     5      \n",
       "12992 0     1            0       0    1   0       0         1     0      \n",
       "12993 0     0            0       0    0   1       0         0     1      \n",
       "12994 0     0            0       1    0   0       0         0     1      \n",
       "12995 0     1            0       0    0   0       0         2     0      \n",
       "12996 1     1            0       1    0   0       0         0     1      \n",
       "12997 0     0            0       0    0   0       0         0     0      \n",
       "12998 0     0            0       0    1   0       1         1     0      \n",
       "12999 0     0            0       0    0   0       0         0     0      \n",
       "      positive\n",
       "1      3      \n",
       "2     10      \n",
       "3     10      \n",
       "4      5      \n",
       "5     15      \n",
       "6      7      \n",
       "7     41      \n",
       "8     46      \n",
       "9      5      \n",
       "10     4      \n",
       "11     0      \n",
       "12    22      \n",
       "13    44      \n",
       "14     9      \n",
       "15     1      \n",
       "16     3      \n",
       "17     1      \n",
       "18    19      \n",
       "19     6      \n",
       "20    21      \n",
       "21     9      \n",
       "22     0      \n",
       "23     3      \n",
       "24    22      \n",
       "25     4      \n",
       "26     1      \n",
       "27    21      \n",
       "28    16      \n",
       "29     7      \n",
       "30     2      \n",
       "...   ...     \n",
       "12970  0      \n",
       "12971  0      \n",
       "12972  0      \n",
       "12973  0      \n",
       "12974  0      \n",
       "12975  1      \n",
       "12976  0      \n",
       "12977  1      \n",
       "12978  0      \n",
       "12979  0      \n",
       "12980  1      \n",
       "12981  0      \n",
       "12982  0      \n",
       "12983  0      \n",
       "12984 18      \n",
       "12985  0      \n",
       "12986  1      \n",
       "12987  1      \n",
       "12988  1      \n",
       "12989  6      \n",
       "12990  0      \n",
       "12991  9      \n",
       "12992  2      \n",
       "12993  0      \n",
       "12994  1      \n",
       "12995  2      \n",
       "12996  1      \n",
       "12997  0      \n",
       "12998  1      \n",
       "12999  0      "
      ]
     },
     "metadata": {},
     "output_type": "display_data"
    }
   ],
   "source": [
    "#Creating sentiments table for text columns\n",
    "sentiment<-get_nrc_sentiment(news$text)\n",
    "sentiment"
   ]
  },
  {
   "cell_type": "code",
   "execution_count": 35,
   "id": "e4541297-d99c-410d-b61a-986d6357816a",
   "metadata": {},
   "outputs": [],
   "source": [
    "#Taking last 2 columns for r visulization\n",
    "df1<-sentiment[c(9,10)]"
   ]
  },
  {
   "cell_type": "code",
   "execution_count": 36,
   "id": "9bc496c5-04e9-49e6-a00e-aec3a9b6ba75",
   "metadata": {},
   "outputs": [
    {
     "data": {
      "text/html": [
       "<table>\n",
       "<thead><tr><th scope=col>negative</th><th scope=col>positive</th></tr></thead>\n",
       "<tbody>\n",
       "\t<tr><td> 3</td><td> 3</td></tr>\n",
       "\t<tr><td>14</td><td>10</td></tr>\n",
       "\t<tr><td> 2</td><td>10</td></tr>\n",
       "\t<tr><td> 2</td><td> 5</td></tr>\n",
       "\t<tr><td> 9</td><td>15</td></tr>\n",
       "\t<tr><td>11</td><td> 7</td></tr>\n",
       "\t<tr><td>25</td><td>41</td></tr>\n",
       "\t<tr><td>27</td><td>46</td></tr>\n",
       "\t<tr><td> 7</td><td> 5</td></tr>\n",
       "\t<tr><td> 4</td><td> 4</td></tr>\n",
       "\t<tr><td> 0</td><td> 0</td></tr>\n",
       "\t<tr><td>15</td><td>22</td></tr>\n",
       "\t<tr><td>13</td><td>44</td></tr>\n",
       "\t<tr><td>14</td><td> 9</td></tr>\n",
       "\t<tr><td> 0</td><td> 1</td></tr>\n",
       "\t<tr><td> 1</td><td> 3</td></tr>\n",
       "\t<tr><td> 0</td><td> 1</td></tr>\n",
       "\t<tr><td>22</td><td>19</td></tr>\n",
       "\t<tr><td> 8</td><td> 6</td></tr>\n",
       "\t<tr><td>23</td><td>21</td></tr>\n",
       "\t<tr><td> 5</td><td> 9</td></tr>\n",
       "\t<tr><td> 2</td><td> 0</td></tr>\n",
       "\t<tr><td> 3</td><td> 3</td></tr>\n",
       "\t<tr><td>14</td><td>22</td></tr>\n",
       "\t<tr><td> 1</td><td> 4</td></tr>\n",
       "\t<tr><td> 0</td><td> 1</td></tr>\n",
       "\t<tr><td>14</td><td>21</td></tr>\n",
       "\t<tr><td> 6</td><td>16</td></tr>\n",
       "\t<tr><td> 3</td><td> 7</td></tr>\n",
       "\t<tr><td> 1</td><td> 2</td></tr>\n",
       "\t<tr><td>...</td><td>...</td></tr>\n",
       "\t<tr><td> 0</td><td> 0</td></tr>\n",
       "\t<tr><td> 1</td><td> 0</td></tr>\n",
       "\t<tr><td> 0</td><td> 0</td></tr>\n",
       "\t<tr><td> 0</td><td> 0</td></tr>\n",
       "\t<tr><td> 0</td><td> 0</td></tr>\n",
       "\t<tr><td> 2</td><td> 1</td></tr>\n",
       "\t<tr><td> 1</td><td> 0</td></tr>\n",
       "\t<tr><td> 0</td><td> 1</td></tr>\n",
       "\t<tr><td> 0</td><td> 0</td></tr>\n",
       "\t<tr><td> 1</td><td> 0</td></tr>\n",
       "\t<tr><td> 1</td><td> 1</td></tr>\n",
       "\t<tr><td> 2</td><td> 0</td></tr>\n",
       "\t<tr><td> 2</td><td> 0</td></tr>\n",
       "\t<tr><td> 0</td><td> 0</td></tr>\n",
       "\t<tr><td>12</td><td>18</td></tr>\n",
       "\t<tr><td> 5</td><td> 0</td></tr>\n",
       "\t<tr><td> 0</td><td> 1</td></tr>\n",
       "\t<tr><td> 0</td><td> 1</td></tr>\n",
       "\t<tr><td> 0</td><td> 1</td></tr>\n",
       "\t<tr><td> 6</td><td> 6</td></tr>\n",
       "\t<tr><td> 0</td><td> 0</td></tr>\n",
       "\t<tr><td> 5</td><td> 9</td></tr>\n",
       "\t<tr><td> 0</td><td> 2</td></tr>\n",
       "\t<tr><td> 1</td><td> 0</td></tr>\n",
       "\t<tr><td> 1</td><td> 1</td></tr>\n",
       "\t<tr><td> 0</td><td> 2</td></tr>\n",
       "\t<tr><td> 1</td><td> 1</td></tr>\n",
       "\t<tr><td> 0</td><td> 0</td></tr>\n",
       "\t<tr><td> 0</td><td> 1</td></tr>\n",
       "\t<tr><td> 0</td><td> 0</td></tr>\n",
       "</tbody>\n",
       "</table>\n"
      ],
      "text/latex": [
       "\\begin{tabular}{r|ll}\n",
       " negative & positive\\\\\n",
       "\\hline\n",
       "\t  3 &  3\\\\\n",
       "\t 14 & 10\\\\\n",
       "\t  2 & 10\\\\\n",
       "\t  2 &  5\\\\\n",
       "\t  9 & 15\\\\\n",
       "\t 11 &  7\\\\\n",
       "\t 25 & 41\\\\\n",
       "\t 27 & 46\\\\\n",
       "\t  7 &  5\\\\\n",
       "\t  4 &  4\\\\\n",
       "\t  0 &  0\\\\\n",
       "\t 15 & 22\\\\\n",
       "\t 13 & 44\\\\\n",
       "\t 14 &  9\\\\\n",
       "\t  0 &  1\\\\\n",
       "\t  1 &  3\\\\\n",
       "\t  0 &  1\\\\\n",
       "\t 22 & 19\\\\\n",
       "\t  8 &  6\\\\\n",
       "\t 23 & 21\\\\\n",
       "\t  5 &  9\\\\\n",
       "\t  2 &  0\\\\\n",
       "\t  3 &  3\\\\\n",
       "\t 14 & 22\\\\\n",
       "\t  1 &  4\\\\\n",
       "\t  0 &  1\\\\\n",
       "\t 14 & 21\\\\\n",
       "\t  6 & 16\\\\\n",
       "\t  3 &  7\\\\\n",
       "\t  1 &  2\\\\\n",
       "\t ... & ...\\\\\n",
       "\t  0 &  0\\\\\n",
       "\t  1 &  0\\\\\n",
       "\t  0 &  0\\\\\n",
       "\t  0 &  0\\\\\n",
       "\t  0 &  0\\\\\n",
       "\t  2 &  1\\\\\n",
       "\t  1 &  0\\\\\n",
       "\t  0 &  1\\\\\n",
       "\t  0 &  0\\\\\n",
       "\t  1 &  0\\\\\n",
       "\t  1 &  1\\\\\n",
       "\t  2 &  0\\\\\n",
       "\t  2 &  0\\\\\n",
       "\t  0 &  0\\\\\n",
       "\t 12 & 18\\\\\n",
       "\t  5 &  0\\\\\n",
       "\t  0 &  1\\\\\n",
       "\t  0 &  1\\\\\n",
       "\t  0 &  1\\\\\n",
       "\t  6 &  6\\\\\n",
       "\t  0 &  0\\\\\n",
       "\t  5 &  9\\\\\n",
       "\t  0 &  2\\\\\n",
       "\t  1 &  0\\\\\n",
       "\t  1 &  1\\\\\n",
       "\t  0 &  2\\\\\n",
       "\t  1 &  1\\\\\n",
       "\t  0 &  0\\\\\n",
       "\t  0 &  1\\\\\n",
       "\t  0 &  0\\\\\n",
       "\\end{tabular}\n"
      ],
      "text/markdown": [
       "\n",
       "| negative | positive |\n",
       "|---|---|\n",
       "|  3 |  3 |\n",
       "| 14 | 10 |\n",
       "|  2 | 10 |\n",
       "|  2 |  5 |\n",
       "|  9 | 15 |\n",
       "| 11 |  7 |\n",
       "| 25 | 41 |\n",
       "| 27 | 46 |\n",
       "|  7 |  5 |\n",
       "|  4 |  4 |\n",
       "|  0 |  0 |\n",
       "| 15 | 22 |\n",
       "| 13 | 44 |\n",
       "| 14 |  9 |\n",
       "|  0 |  1 |\n",
       "|  1 |  3 |\n",
       "|  0 |  1 |\n",
       "| 22 | 19 |\n",
       "|  8 |  6 |\n",
       "| 23 | 21 |\n",
       "|  5 |  9 |\n",
       "|  2 |  0 |\n",
       "|  3 |  3 |\n",
       "| 14 | 22 |\n",
       "|  1 |  4 |\n",
       "|  0 |  1 |\n",
       "| 14 | 21 |\n",
       "|  6 | 16 |\n",
       "|  3 |  7 |\n",
       "|  1 |  2 |\n",
       "| ... | ... |\n",
       "|  0 |  0 |\n",
       "|  1 |  0 |\n",
       "|  0 |  0 |\n",
       "|  0 |  0 |\n",
       "|  0 |  0 |\n",
       "|  2 |  1 |\n",
       "|  1 |  0 |\n",
       "|  0 |  1 |\n",
       "|  0 |  0 |\n",
       "|  1 |  0 |\n",
       "|  1 |  1 |\n",
       "|  2 |  0 |\n",
       "|  2 |  0 |\n",
       "|  0 |  0 |\n",
       "| 12 | 18 |\n",
       "|  5 |  0 |\n",
       "|  0 |  1 |\n",
       "|  0 |  1 |\n",
       "|  0 |  1 |\n",
       "|  6 |  6 |\n",
       "|  0 |  0 |\n",
       "|  5 |  9 |\n",
       "|  0 |  2 |\n",
       "|  1 |  0 |\n",
       "|  1 |  1 |\n",
       "|  0 |  2 |\n",
       "|  1 |  1 |\n",
       "|  0 |  0 |\n",
       "|  0 |  1 |\n",
       "|  0 |  0 |\n",
       "\n"
      ],
      "text/plain": [
       "      negative positive\n",
       "1      3        3      \n",
       "2     14       10      \n",
       "3      2       10      \n",
       "4      2        5      \n",
       "5      9       15      \n",
       "6     11        7      \n",
       "7     25       41      \n",
       "8     27       46      \n",
       "9      7        5      \n",
       "10     4        4      \n",
       "11     0        0      \n",
       "12    15       22      \n",
       "13    13       44      \n",
       "14    14        9      \n",
       "15     0        1      \n",
       "16     1        3      \n",
       "17     0        1      \n",
       "18    22       19      \n",
       "19     8        6      \n",
       "20    23       21      \n",
       "21     5        9      \n",
       "22     2        0      \n",
       "23     3        3      \n",
       "24    14       22      \n",
       "25     1        4      \n",
       "26     0        1      \n",
       "27    14       21      \n",
       "28     6       16      \n",
       "29     3        7      \n",
       "30     1        2      \n",
       "...   ...      ...     \n",
       "12970  0        0      \n",
       "12971  1        0      \n",
       "12972  0        0      \n",
       "12973  0        0      \n",
       "12974  0        0      \n",
       "12975  2        1      \n",
       "12976  1        0      \n",
       "12977  0        1      \n",
       "12978  0        0      \n",
       "12979  1        0      \n",
       "12980  1        1      \n",
       "12981  2        0      \n",
       "12982  2        0      \n",
       "12983  0        0      \n",
       "12984 12       18      \n",
       "12985  5        0      \n",
       "12986  0        1      \n",
       "12987  0        1      \n",
       "12988  0        1      \n",
       "12989  6        6      \n",
       "12990  0        0      \n",
       "12991  5        9      \n",
       "12992  0        2      \n",
       "12993  1        0      \n",
       "12994  1        1      \n",
       "12995  0        2      \n",
       "12996  1        1      \n",
       "12997  0        0      \n",
       "12998  0        1      \n",
       "12999  0        0      "
      ]
     },
     "metadata": {},
     "output_type": "display_data"
    }
   ],
   "source": [
    "df1"
   ]
  },
  {
   "cell_type": "code",
   "execution_count": 37,
   "id": "965ac7a5-aa5f-4387-a36e-25a9d09043d2",
   "metadata": {},
   "outputs": [],
   "source": [
    "normalize <- function(x) {\n",
    "    return ((x - min(x)) / (max(x) - min(x)))\n",
    "  }"
   ]
  },
  {
   "cell_type": "code",
   "execution_count": 38,
   "id": "11ba1db9-25f5-47a0-b218-e6323a4d1b18",
   "metadata": {},
   "outputs": [],
   "source": [
    "df1$negative<-normalize(df1$negative)\n",
    "df1$positive<-normalize(df1$positive)"
   ]
  },
  {
   "cell_type": "code",
   "execution_count": 39,
   "id": "ab4b3a34-7b86-481d-95ca-70daac0685ee",
   "metadata": {},
   "outputs": [],
   "source": [
    "news<-cbind(news,df1)"
   ]
  },
  {
   "cell_type": "code",
   "execution_count": 40,
   "id": "d66ba6ad-379a-4ed4-9144-942ed294b300",
   "metadata": {},
   "outputs": [],
   "source": [
    "#Finding standard deviation and median for negative and positive columns for each type of rows\n",
    "neg_sd<-news %>% group_by(type) %>% summarise(neg_sd=sd(negative))\n",
    "pos_sd<-news %>% group_by(type) %>% summarise(pos_sd=sd(positive))\n",
    "neg_med<-news %>% group_by(type) %>% summarise(neg_med=median(negative))\n",
    "pos_med<-news %>% group_by(type) %>% summarise(pos_med=median(positive))"
   ]
  },
  {
   "cell_type": "code",
   "execution_count": 41,
   "id": "c3df0fda-1bcf-4ffd-a9ac-95e3a951a0ca",
   "metadata": {},
   "outputs": [],
   "source": [
    "#create dataframes for negative and positive standard deviations and median\n",
    "dfr2<-data.frame(neg_sd)\n",
    "dfr1<-data.frame(pos_sd)\n",
    "dfr3<-data.frame(neg_med)\n",
    "dfr4<-data.frame(pos_med)"
   ]
  },
  {
   "cell_type": "code",
   "execution_count": 42,
   "id": "df3e0a7f-1660-4f3b-8450-7ba5d38e51a3",
   "metadata": {},
   "outputs": [
    {
     "data": {
      "text/html": [
       "<table>\n",
       "<thead><tr><th scope=col>type</th><th scope=col>neg_sd</th></tr></thead>\n",
       "<tbody>\n",
       "\t<tr><td>fake      </td><td>0.05495904</td></tr>\n",
       "\t<tr><td>real      </td><td>0.03976256</td></tr>\n",
       "</tbody>\n",
       "</table>\n"
      ],
      "text/latex": [
       "\\begin{tabular}{r|ll}\n",
       " type & neg\\_sd\\\\\n",
       "\\hline\n",
       "\t fake       & 0.05495904\\\\\n",
       "\t real       & 0.03976256\\\\\n",
       "\\end{tabular}\n"
      ],
      "text/markdown": [
       "\n",
       "| type | neg_sd |\n",
       "|---|---|\n",
       "| fake       | 0.05495904 |\n",
       "| real       | 0.03976256 |\n",
       "\n"
      ],
      "text/plain": [
       "  type neg_sd    \n",
       "1 fake 0.05495904\n",
       "2 real 0.03976256"
      ]
     },
     "metadata": {},
     "output_type": "display_data"
    }
   ],
   "source": [
    "dfr2"
   ]
  },
  {
   "cell_type": "code",
   "execution_count": 43,
   "id": "7d608ae6-5e32-4afe-a07b-42b2b7213830",
   "metadata": {},
   "outputs": [
    {
     "data": {
      "text/html": [
       "<table>\n",
       "<thead><tr><th scope=col>type</th><th scope=col>pos_sd</th></tr></thead>\n",
       "<tbody>\n",
       "\t<tr><td>fake      </td><td>0.07030295</td></tr>\n",
       "\t<tr><td>real      </td><td>0.05275159</td></tr>\n",
       "</tbody>\n",
       "</table>\n"
      ],
      "text/latex": [
       "\\begin{tabular}{r|ll}\n",
       " type & pos\\_sd\\\\\n",
       "\\hline\n",
       "\t fake       & 0.07030295\\\\\n",
       "\t real       & 0.05275159\\\\\n",
       "\\end{tabular}\n"
      ],
      "text/markdown": [
       "\n",
       "| type | pos_sd |\n",
       "|---|---|\n",
       "| fake       | 0.07030295 |\n",
       "| real       | 0.05275159 |\n",
       "\n"
      ],
      "text/plain": [
       "  type pos_sd    \n",
       "1 fake 0.07030295\n",
       "2 real 0.05275159"
      ]
     },
     "metadata": {},
     "output_type": "display_data"
    }
   ],
   "source": [
    "dfr1"
   ]
  },
  {
   "cell_type": "code",
   "execution_count": 44,
   "id": "e5a86523-8866-4cb8-9127-d36743319047",
   "metadata": {},
   "outputs": [
    {
     "data": {
      "text/html": [
       "<table>\n",
       "<thead><tr><th scope=col>type</th><th scope=col>neg_med</th></tr></thead>\n",
       "<tbody>\n",
       "\t<tr><td>fake      </td><td>0.02288330</td></tr>\n",
       "\t<tr><td>real      </td><td>0.02059497</td></tr>\n",
       "</tbody>\n",
       "</table>\n"
      ],
      "text/latex": [
       "\\begin{tabular}{r|ll}\n",
       " type & neg\\_med\\\\\n",
       "\\hline\n",
       "\t fake       & 0.02288330\\\\\n",
       "\t real       & 0.02059497\\\\\n",
       "\\end{tabular}\n"
      ],
      "text/markdown": [
       "\n",
       "| type | neg_med |\n",
       "|---|---|\n",
       "| fake       | 0.02288330 |\n",
       "| real       | 0.02059497 |\n",
       "\n"
      ],
      "text/plain": [
       "  type neg_med   \n",
       "1 fake 0.02288330\n",
       "2 real 0.02059497"
      ]
     },
     "metadata": {},
     "output_type": "display_data"
    }
   ],
   "source": [
    "dfr3"
   ]
  },
  {
   "cell_type": "code",
   "execution_count": 45,
   "id": "57f57489-2078-48cf-ba05-c11d733b641e",
   "metadata": {},
   "outputs": [
    {
     "data": {
      "text/html": [
       "<table>\n",
       "<thead><tr><th scope=col>type</th><th scope=col>pos_med</th></tr></thead>\n",
       "<tbody>\n",
       "\t<tr><td>fake      </td><td>0.03759398</td></tr>\n",
       "\t<tr><td>real      </td><td>0.03508772</td></tr>\n",
       "</tbody>\n",
       "</table>\n"
      ],
      "text/latex": [
       "\\begin{tabular}{r|ll}\n",
       " type & pos\\_med\\\\\n",
       "\\hline\n",
       "\t fake       & 0.03759398\\\\\n",
       "\t real       & 0.03508772\\\\\n",
       "\\end{tabular}\n"
      ],
      "text/markdown": [
       "\n",
       "| type | pos_med |\n",
       "|---|---|\n",
       "| fake       | 0.03759398 |\n",
       "| real       | 0.03508772 |\n",
       "\n"
      ],
      "text/plain": [
       "  type pos_med   \n",
       "1 fake 0.03759398\n",
       "2 real 0.03508772"
      ]
     },
     "metadata": {},
     "output_type": "display_data"
    }
   ],
   "source": [
    "dfr4"
   ]
  },
  {
   "cell_type": "code",
   "execution_count": 46,
   "id": "8421f6ff-0531-49e7-a40a-37f11e2155fc",
   "metadata": {},
   "outputs": [
    {
     "data": {
      "text/html": [
       "<table>\n",
       "<tbody>\n",
       "\t<tr><th scope=row>type</th><td>fake      </td><td>real      </td></tr>\n",
       "\t<tr><th scope=row>pos_sd</th><td>0.07030295</td><td>0.05275159</td></tr>\n",
       "\t<tr><th scope=row>neg_sd</th><td>0.05495904</td><td>0.03976256</td></tr>\n",
       "</tbody>\n",
       "</table>\n"
      ],
      "text/latex": [
       "\\begin{tabular}{r|ll}\n",
       "\ttype & fake       & real      \\\\\n",
       "\tpos\\_sd & 0.07030295 & 0.05275159\\\\\n",
       "\tneg\\_sd & 0.05495904 & 0.03976256\\\\\n",
       "\\end{tabular}\n"
      ],
      "text/markdown": [
       "\n",
       "| type | fake       | real       |\n",
       "| pos_sd | 0.07030295 | 0.05275159 |\n",
       "| neg_sd | 0.05495904 | 0.03976256 |\n",
       "\n"
      ],
      "text/plain": [
       "       [,1]       [,2]      \n",
       "type   fake       real      \n",
       "pos_sd 0.07030295 0.05275159\n",
       "neg_sd 0.05495904 0.03976256"
      ]
     },
     "metadata": {},
     "output_type": "display_data"
    }
   ],
   "source": [
    "#merging dataframes and taking transpose of t1 we get t2\n",
    "t1<-merge(dfr1,dfr2)\n",
    "t2<-t(t1)\n",
    "t2"
   ]
  },
  {
   "cell_type": "code",
   "execution_count": 47,
   "id": "97e9187c-bae4-41b8-bd23-3809ff365c51",
   "metadata": {},
   "outputs": [
    {
     "data": {
      "text/html": [
       "<table>\n",
       "<tbody>\n",
       "\t<tr><th scope=row>type</th><td>fake      </td><td>real      </td></tr>\n",
       "\t<tr><th scope=row>pos_med</th><td>0.03759398</td><td>0.03508772</td></tr>\n",
       "\t<tr><th scope=row>neg_med</th><td>0.02288330</td><td>0.02059497</td></tr>\n",
       "</tbody>\n",
       "</table>\n"
      ],
      "text/latex": [
       "\\begin{tabular}{r|ll}\n",
       "\ttype & fake       & real      \\\\\n",
       "\tpos\\_med & 0.03759398 & 0.03508772\\\\\n",
       "\tneg\\_med & 0.02288330 & 0.02059497\\\\\n",
       "\\end{tabular}\n"
      ],
      "text/markdown": [
       "\n",
       "| type | fake       | real       |\n",
       "| pos_med | 0.03759398 | 0.03508772 |\n",
       "| neg_med | 0.02288330 | 0.02059497 |\n",
       "\n"
      ],
      "text/plain": [
       "        [,1]       [,2]      \n",
       "type    fake       real      \n",
       "pos_med 0.03759398 0.03508772\n",
       "neg_med 0.02288330 0.02059497"
      ]
     },
     "metadata": {},
     "output_type": "display_data"
    }
   ],
   "source": [
    "#merging dataframes and taking transpose of t4 we get t3\n",
    "t3<-merge(dfr4,dfr3)\n",
    "t4<-t(t3)\n",
    "t4"
   ]
  },
  {
   "cell_type": "code",
   "execution_count": null,
   "id": "b3ec2a69-2f9a-41ed-9783-8473225104ed",
   "metadata": {},
   "outputs": [],
   "source": []
  }
 ],
 "metadata": {
  "kernelspec": {
   "display_name": "R",
   "language": "R",
   "name": "ir"
  },
  "language_info": {
   "codemirror_mode": "r",
   "file_extension": ".r",
   "mimetype": "text/x-r-source",
   "name": "R",
   "pygments_lexer": "r",
   "version": "3.6.1"
  }
 },
 "nbformat": 4,
 "nbformat_minor": 5
}
